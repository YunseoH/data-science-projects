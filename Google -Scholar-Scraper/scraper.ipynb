{
 "cells": [
  {
   "cell_type": "markdown",
   "id": "625f41b5",
   "metadata": {},
   "source": [
    "# Challenge 2 - The Google Scholar Package\n",
    "\n",
    "## Description\n",
    "\n",
    "As we worked pretty hard on scraping Google Scholar, our new challenge is to prepare a package that anyone could reuse to extract and process data from Google Scholar.\n",
    "\n",
    "## Reminder about Google Scholar API\n",
    "\n",
    "Google Scholar provides `Author` webpages, where authors are identified with an **author identifier** (e.g. [yySZFKoAAAAJ](https://scholar.google.fr/citations?user=yySZFKoAAAAJ&hl=en)).\n",
    "\n",
    "The details of each publication on the Author webpage can be retrieved using the **author publication identifier** (e.g. [yySZFKoAAAAJ:kNdYIx-mwKoC](https://scholar.google.fr/citations?view_op=view_citation&hl=en&citation_for_view=yySZFKoAAAAJ:kNdYIx-mwKoC)).\n",
    "\n",
    "Citations can be retrieved using a **publication identifier** (e.g. [15885577448857307637](https://scholar.google.fr/scholar?oi=bibs&hl=en&cites=15885577448857307637&as_sdt=5)). This is also referred as a **cluster identifier** in Google Scholar. The `publication identifier` is different from the `author publication identifier`.\n",
    "\n",
    "\n",
    "## Submission rules\n",
    "\n",
    "Submit a zip file, similar to the one you collected, with your changes.\n",
    "Your code should not add any side effect apart from the expected behaviour.\n",
    "And the package should pass the `flake8 gscholar/ --max-line-length 140` style checker. \n",
    "\n",
    "## Package design\n",
    "\n",
    "This project is a bit more complicated. It is composed of \n",
    "\n",
    "- The `scraping.*` objects, used to collect information from Google Scholar. The most important object is `scraping.GoogleScholar`.\n",
    "- The `GoogleScholarDB` object, used to store all significant information about authors and their publications.\n",
    "- The `db.GoogleScholarDBBuilder` object that uses `scraping.GoogleScholar` to populate `GoogleScholarDB`."
   ]
  },
  {
   "cell_type": "markdown",
   "id": "c7e13976",
   "metadata": {},
   "source": [
    "```\n",
    "gscholar\n",
    "├── GoogleScholarDB.py\n",
    "├── db\n",
    "│   └── GoogleScholarDBBuilder.py\n",
    "├── scraping\n",
    "│   ├── GoogleScholar.py\n",
    "│   ├── cache\n",
    "│   │   ├── GoogleScholarCacheFile.py\n",
    "│   │   ├── GoogleScholarCache.py\n",
    "│   │   └── GoogleScholarCacheSQLite.py\n",
    "│   ├── crawler\n",
    "│   │   └── GoogleScholarCrawler.py\n",
    "│   └── parser\n",
    "│       └── GoogleScholarParser.py\n",
    "└── utils\n",
    "    ├── GSError.py\n",
    "    └── logger.py\n",
    "```"
   ]
  },
  {
   "cell_type": "markdown",
   "id": "faba1b72",
   "metadata": {},
   "source": [
    "![design](docs/design.png)"
   ]
  },
  {
   "cell_type": "markdown",
   "id": "f2ed6908",
   "metadata": {},
   "source": [
    "## Usage"
   ]
  },
  {
   "cell_type": "markdown",
   "id": "5296d9e7",
   "metadata": {},
   "source": [
    "### scraping.GoogleScholarCache\n",
    "\n",
    "The `GoogleScholarCache` is an object used to store web page from Google Scholar. The `GoogleScholarCache` is abstract and define this interface:"
   ]
  },
  {
   "cell_type": "markdown",
   "id": "62e970f9",
   "metadata": {},
   "source": [
    "```\n",
    "class GoogleScholarCache:\n",
    "    def __init__(self):\n",
    "        pass\n",
    "    def add_author_page(self, author_id, source):\n",
    "        pass\n",
    "    def get_author_page(self, author_id):\n",
    "        pass\n",
    "    def add_publication_page(self, author_id, pub_id, source):\n",
    "        pass\n",
    "    def get_publication_page(self, author_id, pub_id):\n",
    "        pass\n",
    "    def add_citations_page(self, cluster_id, start, source):\n",
    "        pass\n",
    "    def get_citations_page(self, cluster_id, start):\n",
    "        pass\n",
    "    def add_versions_page(self, cluster_id, start, source):\n",
    "        pass\n",
    "    def get_versions_page(self, cluster_id, start):\n",
    "        pass\n",
    "    def dump(self):\n",
    "        pass\n",
    "    def clear(self):\n",
    "        pass\n",
    "    def copy_into(self, cache):\n",
    "        pass\n",
    "```"
   ]
  },
  {
   "cell_type": "markdown",
   "id": "fcb8a85b",
   "metadata": {},
   "source": [
    "There are two implementations of the cache:\n",
    "\n",
    " - GoogleScholarCacheSQLite\n",
    " - GoogleScholarCacheFile"
   ]
  },
  {
   "cell_type": "markdown",
   "id": "1556bb91",
   "metadata": {},
   "source": [
    "#### Example of GoogleScholarCacheSQLite\n",
    "\n",
    "This object stores webpages using the SQLite database. First we need to decide where to store this database. "
   ]
  },
  {
   "cell_type": "code",
   "execution_count": null,
   "id": "fd01c2ff",
   "metadata": {
    "ExecuteTime": {
     "end_time": "2023-10-10T03:21:53.961194270Z",
     "start_time": "2023-10-10T03:21:53.910709467Z"
    }
   },
   "outputs": [],
   "source": [
    "import os\n",
    "import tempfile\n",
    "\n",
    "def get_tmp_filename() :\n",
    "    # using tempfile we get an anonymous file\n",
    "    fd = tempfile.NamedTemporaryFile(delete=False)\n",
    "    fd.close()\n",
    "    db_file = fd.name\n",
    "\n",
    "    # we remove any existing file\n",
    "    if os.path.exists(db_file):\n",
    "        os.remove(db_file)\n",
    "        \n",
    "    return db_file\n",
    "\n",
    "def get_tmp_dirname():\n",
    "\n",
    "    # using tempfile we get an anonymous dir\n",
    "    _temp_dir = tempfile.TemporaryDirectory()\n",
    "    \n",
    "    return _temp_dir.name"
   ]
  },
  {
   "cell_type": "code",
   "execution_count": null,
   "id": "4a054cfe",
   "metadata": {
    "ExecuteTime": {
     "end_time": "2023-10-10T03:21:54.972873456Z",
     "start_time": "2023-10-10T03:21:54.902036772Z"
    }
   },
   "outputs": [],
   "source": [
    "from gscholar.scraping.cache.GoogleScholarCacheSQLite import GoogleScholarCacheSQLite\n",
    "\n",
    "# we print the temporary db filename\n",
    "db_filename = get_tmp_filename()\n",
    "print(\"The random filename we get is\", db_filename)\n",
    "\n",
    "# Example of store and retrieve for author page.\n",
    "cache = GoogleScholarCacheSQLite(db_filename)\n",
    "\n",
    "# The cache provide add/get function for each type of web page\n",
    "# For example, author pages:\n",
    "cache.add_author_page(\"aid\", \"page_content\")\n",
    "cache.get_author_page(\"aid\")\n",
    "cache.dump()"
   ]
  },
  {
   "cell_type": "markdown",
   "id": "a5721d77",
   "metadata": {},
   "source": [
    "### Scraping.GoogleScholar\n",
    "\n",
    "The `GoogleScholar` object is the main interface to collect data from Google Scholar. It uses a cache (i.e. `GoogleScholarCache`), a crawler, and a parser. The crawler and parser are mostly a structured version of the previous lab. we do not need to cover them."
   ]
  },
  {
   "cell_type": "code",
   "execution_count": null,
   "id": "9f604f37",
   "metadata": {
    "ExecuteTime": {
     "end_time": "2023-10-10T03:21:57.249987663Z",
     "start_time": "2023-10-10T03:21:57.183008858Z"
    }
   },
   "outputs": [],
   "source": [
    "from gscholar.scraping.GoogleScholar import GoogleScholar\n",
    "from gscholar.scraping.cache.GoogleScholarCacheFile import GoogleScholarCacheFile\n",
    "temp_dir = get_tmp_dirname()\n",
    "print(\"The random directory we get is\", temp_dir)\n",
    "gs = GoogleScholar(cache = GoogleScholarCacheFile(temp_dir))"
   ]
  },
  {
   "cell_type": "code",
   "execution_count": null,
   "id": "dea45c4a",
   "metadata": {
    "ExecuteTime": {
     "end_time": "2023-10-10T03:22:26.699913335Z",
     "start_time": "2023-10-10T03:22:26.533569042Z"
    }
   },
   "outputs": [],
   "source": [
    "# Google Scholar provides `Author` webpages, where authors are identified with an author identifier \n",
    "# (e.g. [yySZFKoAAAAJ](https://scholar.google.fr/citations?user=yySZFKoAAAAJ&hl=en)).\n",
    "\n",
    "# /!\\ Warning: When we are not using a pre-populated cache\n",
    "##             This function will only works if you have a working Selenium setup.\n",
    "a_id = \"yySZFKoAAAAJ\"\n",
    "author_details = gs.get_author_details(a_id)\n",
    "print (\"Name:\", author_details[\"name\"])"
   ]
  },
  {
   "cell_type": "markdown",
   "id": "13264b65",
   "metadata": {},
   "source": [
    "The result value of `get_author_details` is a dictionary."
   ]
  },
  {
   "cell_type": "code",
   "execution_count": null,
   "id": "a2288ea6",
   "metadata": {
    "ExecuteTime": {
     "end_time": "2023-10-10T03:22:29.505229014Z",
     "start_time": "2023-10-10T03:22:29.417367959Z"
    }
   },
   "outputs": [],
   "source": [
    "from pprint import pprint \n",
    "pprint(author_details)"
   ]
  },
  {
   "cell_type": "markdown",
   "id": "c383d62e",
   "metadata": {},
   "source": [
    "Additionally, we can get the list of publication for this author:"
   ]
  },
  {
   "cell_type": "code",
   "execution_count": null,
   "id": "9721c9a3",
   "metadata": {
    "ExecuteTime": {
     "end_time": "2023-10-10T03:22:31.170066695Z",
     "start_time": "2023-10-10T03:22:31.009430892Z"
    }
   },
   "outputs": [],
   "source": [
    "a_id = \"yySZFKoAAAAJ\"\n",
    "publication_ids = gs.get_author_publications(a_id)\n",
    "print (\"Total publication:\", len(publication_ids))\n",
    "print (\"First publication_id:\", publication_ids.iloc[0])"
   ]
  },
  {
   "cell_type": "code",
   "execution_count": null,
   "id": "e60581f9",
   "metadata": {
    "ExecuteTime": {
     "start_time": "2023-10-10T03:21:14.702006439Z"
    }
   },
   "outputs": [],
   "source": [
    "# The return type is a list of author publication identifier \n",
    "print(publication_ids)"
   ]
  },
  {
   "cell_type": "code",
   "execution_count": null,
   "id": "db9969b4",
   "metadata": {
    "ExecuteTime": {
     "start_time": "2023-10-10T03:21:14.702235384Z"
    }
   },
   "outputs": [],
   "source": [
    "# The details of each publication on the Author webpage can be retrieved using \n",
    "# the author publication identifier (e.g. [yySZFKoAAAAJ:kNdYIx-mwKoC]).\n",
    "\n",
    "publication_details = gs.get_publication_details(\"yySZFKoAAAAJ\", \"kNdYIx-mwKoC\")\n",
    "print (\"Publication title:\", publication_details[\"title\"])\n",
    "print (\"Publication date:\", publication_details[\"date\"])\n",
    "print (\"Publication citation clusters:\", publication_details[\"clusters\"])"
   ]
  },
  {
   "cell_type": "markdown",
   "id": "47a5eaa4",
   "metadata": {},
   "source": [
    "The return type of `publication_details` is a dictionary."
   ]
  },
  {
   "cell_type": "code",
   "execution_count": null,
   "id": "8b3d6e3d",
   "metadata": {
    "ExecuteTime": {
     "start_time": "2023-10-10T03:21:14.702524792Z"
    }
   },
   "outputs": [],
   "source": [
    "publication_details"
   ]
  },
  {
   "cell_type": "markdown",
   "id": "10173feb",
   "metadata": {},
   "source": [
    "We note that this publication has more than one `publication identifier` in its `clusters` section. However, the `cites` section provides what `publication identifier` to be used to retrieve the citations."
   ]
  },
  {
   "cell_type": "code",
   "execution_count": null,
   "id": "27c96e38",
   "metadata": {
    "ExecuteTime": {
     "start_time": "2023-10-10T03:21:14.702748721Z"
    }
   },
   "outputs": [],
   "source": [
    "citations = gs.get_citations(\"15885577448857307637\")\n",
    "print(\"Title of the first one:\", citations.loc[0][\"title\"])\n",
    "print(\"Year of the first one:\", citations.loc[0][\"year\"])\n",
    "print(\"Cluster of the first one:\", citations.loc[0][\"clusters\"])"
   ]
  },
  {
   "cell_type": "markdown",
   "id": "20b8a038",
   "metadata": {},
   "source": [
    "The return type of `get_citations` is a pandas DataFrame. We note that at the current stage, the parser cannot retrieve all the required information.  For example, we do not have the publication identifier for every publication. This is because the `Parser` is imperfect."
   ]
  },
  {
   "cell_type": "code",
   "execution_count": null,
   "id": "81d770d2",
   "metadata": {
    "ExecuteTime": {
     "start_time": "2023-10-10T03:21:14.703018840Z"
    }
   },
   "outputs": [],
   "source": [
    "citations[[\"title\", \"year\", \"clusters\", \"cites\"]]"
   ]
  },
  {
   "cell_type": "markdown",
   "id": "5b4dd146",
   "metadata": {},
   "source": [
    "Once we are done using a GoogleScholar object, we should terminate it (In order to make sure the Selenium session is finished). "
   ]
  },
  {
   "cell_type": "code",
   "execution_count": null,
   "id": "ce302262",
   "metadata": {
    "ExecuteTime": {
     "start_time": "2023-10-10T03:21:14.703740573Z"
    }
   },
   "outputs": [],
   "source": [
    "gs.terminate_crawler()"
   ]
  },
  {
   "cell_type": "markdown",
   "id": "f4bc1744",
   "metadata": {},
   "source": [
    "### GoogleScholarDB\n",
    "\n",
    "This last object is used after scraping and parsing. It stores processed information instead of just web pages. The parsing of webpages is not necessarily fast especially when we have to parse thousands of them. The `GoogleScholarDB` object is used to store the parsing result, and make efficient request to the data."
   ]
  },
  {
   "cell_type": "code",
   "execution_count": null,
   "id": "eae06c4e",
   "metadata": {
    "ExecuteTime": {
     "start_time": "2023-10-10T03:21:14.704004568Z"
    }
   },
   "outputs": [],
   "source": [
    "from gscholar.GoogleScholarDB import GoogleScholarDB\n",
    "\n",
    "# we print the temporary db filename\n",
    "db_filename = get_tmp_filename()\n",
    "print(\"The random filename we get is\", db_filename)\n",
    "\n",
    "db = GoogleScholarDB(db_filename)\n",
    "db.clean()"
   ]
  },
  {
   "cell_type": "code",
   "execution_count": null,
   "id": "f0ce5b68",
   "metadata": {
    "ExecuteTime": {
     "start_time": "2023-10-10T03:21:14.704274179Z"
    }
   },
   "outputs": [],
   "source": [
    "# add_author takes two arguments, author identifier, and author name.\n",
    "db.add_author(\"yySZFKoAAAAJ\", 'Bruno Bodin')\n",
    "\n",
    "# add_author takes three arguments, publication identifier, title, and year of publication.\n",
    "db.add_publication(\"9894327834646363633\", \"Introducing SLAMBench, a performance and accuracy benchmarking methodology for SLAM\", 2015, [\"author1\", \"author2\"])\n",
    "db.add_publication(\"7383276259500311615\", 'Visual SLAM algorithms: a survey from 2010 to 2016', 2017, [\"author2\", \"author3\"])\n",
    "\n",
    "# add_authorship takes three arguments, author identifier, author-publication identifier, and publication identifier.\n",
    "db.add_authorship(\"yySZFKoAAAAJ\", \"IjCSPb-OGe4C\", \"9894327834646363633\")\n",
    "\n",
    "# add_citation takes two arguments, publication identifier of the paper cited and publication identifier of the citing paper.\n",
    "db.add_citation(\"9894327834646363633\", cited_by = \"7383276259500311615\")"
   ]
  },
  {
   "cell_type": "code",
   "execution_count": null,
   "id": "6674b3b7",
   "metadata": {
    "ExecuteTime": {
     "start_time": "2023-10-10T03:21:14.704544194Z"
    }
   },
   "outputs": [],
   "source": [
    "db.dump()"
   ]
  },
  {
   "cell_type": "code",
   "execution_count": null,
   "id": "eb7c3ed9",
   "metadata": {
    "ExecuteTime": {
     "start_time": "2023-10-10T03:21:14.704757853Z"
    }
   },
   "outputs": [],
   "source": [
    "# if you try to add data that already exist in the database, then nothing bad happen\n",
    "db.add_publication(\"7383276259500311615\", 'Visual SLAM algorithms: a survey from 2010 to 2016', 2017, [\"author2\", \"author3\"])"
   ]
  },
  {
   "cell_type": "code",
   "execution_count": null,
   "id": "57b3ba93",
   "metadata": {
    "ExecuteTime": {
     "start_time": "2023-10-10T03:21:14.704927870Z"
    }
   },
   "outputs": [],
   "source": [
    "# However if there is a difference, then an error shows (find the difference...)\n",
    "db.add_publication(\"7383276259500311615\", 'visual SLAM algorithms: a survey from 2010 to 2016', 2017, [\"author2\", \"author3\"])"
   ]
  },
  {
   "cell_type": "markdown",
   "id": "8474974b",
   "metadata": {},
   "source": [
    "## Tasks descriptions"
   ]
  },
  {
   "cell_type": "markdown",
   "id": "64fa35bc",
   "metadata": {},
   "source": [
    "## Task 1 - `GoogleScholarCache.copy_into()` \n",
    "\n",
    "Our first task is to provide a new feature to `GoogleScholarCache` objects.\n",
    "This feature aims at enabling the copy of web pages from a cache to another. \n",
    "This feature is already defined as part of the `GoogleScholarCache` interface, it is `copy_into(self, cache)`. \n",
    "\n",
    "However, it has not been implemented yet for `GoogleScholarCacheFile` and `GoogleScholarCacheSQLite`."
   ]
  },
  {
   "cell_type": "markdown",
   "id": "2ec45fb4",
   "metadata": {},
   "source": [
    "For example, by using this feature we will be able to merge cache of different type:"
   ]
  },
  {
   "cell_type": "code",
   "execution_count": null,
   "id": "884073c8",
   "metadata": {
    "ExecuteTime": {
     "start_time": "2023-10-10T03:21:14.705090767Z"
    }
   },
   "outputs": [],
   "source": [
    "from gscholar.scraping.cache.GoogleScholarCacheFile import GoogleScholarCacheFile\n",
    "from gscholar.scraping.cache.GoogleScholarCacheSQLite import GoogleScholarCacheSQLite\n",
    "\n",
    "db1_filename = get_tmp_filename()\n",
    "db2_dirname = get_tmp_dirname()\n",
    "db3_filename = get_tmp_filename()\n",
    "\n",
    "cache1 = GoogleScholarCacheSQLite(db1_filename)\n",
    "cache1.add_author_page(\"aid1\", \"page_content1\")\n",
    "cache1.add_publication_page(\"aid1\",\"pid1\", \"page_content1\")\n",
    "cache1.dump()\n",
    "\n",
    "cache2 = GoogleScholarCacheFile(db2_dirname)\n",
    "cache2.add_author_page(\"aid2\", \"page_content2\")\n",
    "cache2.add_publication_page(\"aid2\",\"pid1\", \"pub_content1\")\n",
    "cache2.add_publication_page(\"aid2\",\"pid2\", \"pub_content2\")\n",
    "cache2.dump()\n",
    "\n",
    "cache3 = GoogleScholarCacheSQLite(db3_filename)\n",
    "cache1.copy_into(cache3)\n",
    "cache2.copy_into(cache3)\n",
    "cache3.dump()"
   ]
  },
  {
   "cell_type": "markdown",
   "id": "92494969",
   "metadata": {},
   "source": [
    "**Your task is to implement the function `copy_into` in `GoogleScholarCacheFile` and `GoogleScholarCacheSQLite`.**\n",
    "\n",
    "### Points \n",
    "\n",
    " - 4 points for `GoogleScholarCacheSQLite`, \n",
    " - 6 points for `GoogleScholarCacheFile`."
   ]
  },
  {
   "cell_type": "markdown",
   "id": "5db4795f",
   "metadata": {},
   "source": [
    "## Task 2 - The `GoogleScholarDBBuilder`\n",
    "\n",
    "Our second task is to provide an object capable to populate `GoogleScholarDB` using the `scraping.GoogleScholar` object.\n",
    "\n",
    "At the moment we only expect `GoogleScholarDBBuilder` to provide the `fetch_authors(list)` function. This function, for a list of authors will extract their details from a `scraping.GoogleScholar` object and populate a `GoogleScholarDB` with:\n",
    "\n",
    "- the list of authors, \n",
    "- their authorship information,\n",
    "- their publications and the publications that cite their work,\n",
    "- the citations for each of their papers.\n",
    "\n",
    "We would expect to be able to use `fetch_authors(list)` the following way:"
   ]
  },
  {
   "cell_type": "code",
   "execution_count": null,
   "id": "34e74e96",
   "metadata": {
    "ExecuteTime": {
     "start_time": "2023-10-10T03:21:14.705259821Z"
    }
   },
   "outputs": [],
   "source": [
    "from gscholar.db.GoogleScholarDBBuilder import GoogleScholarDBBuilder\n",
    "from gscholar.GoogleScholarDB import GoogleScholarDB\n",
    "from gscholar.scraping.GoogleScholar import GoogleScholar\n",
    "from gscholar.scraping.cache.GoogleScholarCacheSQLite import GoogleScholarCacheSQLite\n",
    "\n",
    "db_filename = get_tmp_filename()\n",
    "test_database = \"./tests/test_cache.sqlite\"\n",
    "assert(os.path.exists(test_database))\n",
    "# prepare an empty db\n",
    "db = GoogleScholarDB(db_filename)\n",
    "db.clean()\n",
    "\n",
    "# prepare a Google Scholar API with a cache that is already populated\n",
    "gs = GoogleScholar(cache = GoogleScholarCacheSQLite(test_database))\n",
    "\n",
    "# Set the builder with the correct parameters\n",
    "builder = GoogleScholarDBBuilder(gs,db)"
   ]
  },
  {
   "cell_type": "code",
   "execution_count": null,
   "id": "44d0345c",
   "metadata": {
    "ExecuteTime": {
     "start_time": "2023-10-10T03:21:14.705487375Z"
    }
   },
   "outputs": [],
   "source": [
    "author_list = [\"1TUANHcAAAAJ\", # Kuba \n",
    "               \"x2MfRUYAAAAJ\", # Tom\n",
    "               \"ky6n3gwAAAAJ\"] # Harry\n",
    "builder.fetch_authors(author_list)"
   ]
  },
  {
   "cell_type": "code",
   "execution_count": null,
   "id": "586163d8",
   "metadata": {
    "ExecuteTime": {
     "start_time": "2023-10-10T03:21:14.705738017Z"
    }
   },
   "outputs": [],
   "source": [
    "gs.terminate_crawler()\n",
    "db.dump()"
   ]
  },
  {
   "cell_type": "markdown",
   "id": "021b251c",
   "metadata": {},
   "source": [
    "### Points \n",
    "\n",
    " - 2 points if the Authors list is correct.\n",
    " - 2 points if the Publications list is correct.\n",
    " - 1 points if the Citations list is correct.\n",
    " - 1 points if the Authorship list is correct.\n",
    " "
   ]
  },
  {
   "cell_type": "markdown",
   "id": "30c84586",
   "metadata": {},
   "source": [
    "## Task 3 - The `GoogleScholarDB`\n",
    "\n",
    "As we are able to populate the GoogleScholarDB automatically, we can now produce some analysis functions. \n",
    "\n",
    " - `get_h_index(author_id)` function, that returns the H-Index of a particular author. Your function must be solely relying on `SQL`.\n",
    " - `get_citation_graph()` function that returns a networkX Graph object of citations stored inside the DB.\n",
    "\n",
    "**Definition of H-Index**: *The H-Index of an author is the maximal value H such that the author published H publications with at least H citations.*\n"
   ]
  },
  {
   "cell_type": "markdown",
   "id": "53d020d7",
   "metadata": {},
   "source": [
    "### `get_h_index(author_id)`\n",
    "\n",
    "Your solution for `get_h_index(self, author_id)` should be similar to "
   ]
  },
  {
   "cell_type": "code",
   "execution_count": null,
   "id": "ad925529",
   "metadata": {
    "ExecuteTime": {
     "start_time": "2023-10-10T03:21:14.706072809Z"
    }
   },
   "outputs": [],
   "source": [
    "def get_h_index(self, author_id):\n",
    "\n",
    "        request = f\"\"\"\n",
    "            SELECT ... {author_id} ...\n",
    "        ;\n",
    "        \"\"\"\n",
    "        cursor = self.con.cursor()\n",
    "        _h_index = cursor.execute(request).fetchone()[0]\n",
    "        cursor.close()\n",
    "        return _h_index"
   ]
  },
  {
   "cell_type": "markdown",
   "id": "da1a5254",
   "metadata": {},
   "source": [
    "And its expected usage would be"
   ]
  },
  {
   "cell_type": "code",
   "execution_count": null,
   "id": "c467f480",
   "metadata": {
    "ExecuteTime": {
     "start_time": "2023-10-10T03:21:14.706308080Z"
    }
   },
   "outputs": [],
   "source": [
    "from gscholar.GoogleScholarDB import GoogleScholarDB\n",
    "db = GoogleScholarDB(db_filename)\n",
    "h_index = [(x,db.get_h_index(x)) for x in author_list]\n",
    "print (f\"H-Indexes are {h_index}\")"
   ]
  },
  {
   "cell_type": "markdown",
   "id": "1337ae14",
   "metadata": {},
   "source": [
    "### `get_citation_graph()`\n",
    "\n",
    "Your solution for `get_citation_graph(focus_authors=None)` should return a object of type `networkx.classes.digraph.Graph` that contains `size` and `color` attributes for each nodes. And `width` attribute for each edges. The graph would visualize citations between papers in the DB, with some way to highlight papers from specific authors."
   ]
  },
  {
   "cell_type": "code",
   "execution_count": null,
   "id": "d0f26593",
   "metadata": {
    "ExecuteTime": {
     "start_time": "2023-10-10T03:21:14.706494416Z"
    }
   },
   "outputs": [],
   "source": [
    "from gscholar.GoogleScholarDB import GoogleScholarDB\n",
    "db = GoogleScholarDB(db_filename)\n",
    "graph = db.get_citation_graph(focus_authors=['1TUANHcAAAAJ', 'x2MfRUYAAAAJ'])"
   ]
  },
  {
   "cell_type": "code",
   "execution_count": null,
   "id": "857df383",
   "metadata": {
    "ExecuteTime": {
     "start_time": "2023-10-10T03:21:14.706494416Z"
    }
   },
   "outputs": [],
   "source": [
    "# Drawing with networkX\n",
    "import networkx as nx\n",
    "pos = nx.spring_layout(graph, k = 0.2)\n",
    "nx.draw(graph, \n",
    "        pos, \n",
    "        node_size=[x[1][\"size\"] for x in graph.nodes(data=True)],\n",
    "        node_color=[x[1][\"color\"] for x in graph.nodes(data=True)]\n",
    "       )"
   ]
  },
  {
   "cell_type": "code",
   "execution_count": null,
   "id": "da9214cf",
   "metadata": {
    "ExecuteTime": {
     "start_time": "2023-10-10T03:21:14.706494416Z"
    }
   },
   "outputs": [],
   "source": [
    "# Drawing with pyvis\n",
    "from pyvis.network import Network\n",
    "visgraph = Network(notebook=True)\n",
    "visgraph.from_nx(graph)\n",
    "visgraph.show(\"tmp.html\")   "
   ]
  },
  {
   "cell_type": "markdown",
   "id": "295a662c",
   "metadata": {},
   "source": [
    "### Points\n",
    "\n",
    "- 3 points if the get_h_index() function is correct.\n",
    "- 1 points if the get_citation_graph() function is correct. "
   ]
  }
 ],
 "metadata": {
  "kernelspec": {
   "display_name": "Python 3 (ipykernel)",
   "language": "python",
   "name": "python3"
  },
  "language_info": {
   "codemirror_mode": {
    "name": "ipython",
    "version": 3
   },
   "file_extension": ".py",
   "mimetype": "text/x-python",
   "name": "python",
   "nbconvert_exporter": "python",
   "pygments_lexer": "ipython3",
   "version": "3.11.5"
  },
  "toc": {
   "base_numbering": 1,
   "nav_menu": {},
   "number_sections": true,
   "sideBar": true,
   "skip_h1_title": false,
   "title_cell": "Table of Contents",
   "title_sidebar": "Contents",
   "toc_cell": false,
   "toc_position": {},
   "toc_section_display": true,
   "toc_window_display": false
  }
 },
 "nbformat": 4,
 "nbformat_minor": 5
}
